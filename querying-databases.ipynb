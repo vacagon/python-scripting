{
 "cells": [
  {
   "cell_type": "markdown",
   "metadata": {},
   "source": [
    "## Querying databases\n",
    "We've already seen a couple of SQL queries when creating a database table and checking if data was present. Now we will go beyond those basics queries to do slightly more advanced queries, like searching and filtering."
   ]
  },
  {
   "cell_type": "code",
   "execution_count": 1,
   "metadata": {},
   "outputs": [],
   "source": [
    "# Work with an in-memory SQLite database again\n",
    "import sqlite3\n",
    "connection = sqlite3.connect(':memory:')"
   ]
  },
  {
   "cell_type": "code",
   "execution_count": 2,
   "metadata": {},
   "outputs": [],
   "source": [
    "# Create a table again for holding a path and size, just like before\n",
    "table = 'CREATE TABLE files (id integer primary key, path TEXT, bytes INTEGER)'\n",
    "cursor = connection.cursor()\n",
    "cursor.execute(table)\n",
    "connection.commit()"
   ]
  },
  {
   "cell_type": "markdown",
   "metadata": {},
   "source": [
    "There is a _large_files.py_ file that has a `files` variable which holds a list of tuples with some sample data we can use to populate the database. Import that module and use the list to iterate over it and then populate the database\n",
    "\n",
    "In this section you will use a special SQL syntax in SQLite to insert values from Python into the SQL query."
   ]
  },
  {
   "cell_type": "code",
   "execution_count": 3,
   "metadata": {},
   "outputs": [],
   "source": [
    "from large_files import files\n",
    "\n",
    "for metadata in files:\n",
    "    query = 'INSERT INTO files(path, bytes) VALUES(?, ?)'\n",
    "    # the execute() method accepts a query and optionally a tuple with values \n",
    "    # corresponding to the question marks in VALUES\n",
    "    cursor.execute(query, metadata)\n",
    "    connection.commit()\n"
   ]
  },
  {
   "cell_type": "markdown",
   "metadata": {},
   "source": [
    "So far we've seen `CREATE` and `INSERT`. Let's try a new SQL statement to make a selection. The `SELECT` statement produces a result from one or more tables and from one or many rows. \n",
    "\n",
    "Note the particular (and strict) order of SQL statements:\n",
    "\n",
    "- `SELECT`\n",
    "- `FROM`\n",
    "- `WHERE`\n",
    "- `GROUP BY`\n",
    "- `HAVING`\n",
    "- `ORDER BY`\n",
    "\n",
    "Since SQLite returns an iterator as a result always, then it is required to loop over the resulting object. Create a query to count the items in the `files` table. This query will use the `COUNT()` function that produces a number:"
   ]
  },
  {
   "cell_type": "code",
   "execution_count": 4,
   "metadata": {},
   "outputs": [
    {
     "name": "stdout",
     "output_type": "stream",
     "text": [
      "(2001,)\n"
     ]
    }
   ],
   "source": [
    "query = 'SELECT COUNT(id) from files'\n",
    "\n",
    "for i in cursor.execute(query):\n",
    "    print(i)"
   ]
  },
  {
   "cell_type": "markdown",
   "metadata": {},
   "source": [
    "## Extracting distinct row data\n",
    "Counting items is a good way of checking the amount of items that exist in the database. Without using `COUNT(id)` the previous query would've produced two thousand entries. Use the `LIMIT` statement to set the maximum number of entries that can be produced, then remove the `COUNT(id)` function and use `*` instead to use all rows"
   ]
  },
  {
   "cell_type": "code",
   "execution_count": 19,
   "metadata": {},
   "outputs": [
    {
     "name": "stdout",
     "output_type": "stream",
     "text": [
      "(1, '/Users/alfredo/Library/Application Support/.DS_Store', 6148)\n",
      "(2, '/Users/alfredo/Library/Application Support/.settings', 557)\n",
      "(3, '/Users/alfredo/Library/Application Support/Firefox/installs.ini', 71)\n",
      "(4, '/Users/alfredo/Library/Application Support/Firefox/profiles.ini', 286)\n",
      "(5, '/Users/alfredo/Library/Application Support/Firefox/Profiles/3zgfj4k7.default/times.json', 47)\n",
      "(6, '/Users/alfredo/Library/Application Support/Firefox/Profiles/vxy45f54.default-release/compatibility.ini', 220)\n",
      "(7, '/Users/alfredo/Library/Application Support/Firefox/Profiles/vxy45f54.default-release/favicons.sqlite-wal', 524704)\n",
      "(8, '/Users/alfredo/Library/Application Support/Firefox/Profiles/vxy45f54.default-release/addons.json', 24)\n",
      "(9, '/Users/alfredo/Library/Application Support/Firefox/Profiles/vxy45f54.default-release/.parentlock', 0)\n",
      "(10, '/Users/alfredo/Library/Application Support/Firefox/Profiles/vxy45f54.default-release/logins.json', 643)\n"
     ]
    }
   ],
   "source": [
    "query = 'SELECT * from files LIMIT(10)'\n",
    "for i in cursor.execute(query):\n",
    "    print(i)"
   ]
  },
  {
   "cell_type": "markdown",
   "metadata": {},
   "source": [
    "Using `*` means every row in the table. The table in this case is `files`. The next query specifies using the `id` row only. \n",
    "\n",
    "**Exercise:** Update the cell contents so that it shows paths instead."
   ]
  },
  {
   "cell_type": "code",
   "execution_count": 18,
   "metadata": {},
   "outputs": [
    {
     "name": "stdout",
     "output_type": "stream",
     "text": [
      "('/Users/alfredo/Library/Application Support/.DS_Store',)\n",
      "('/Users/alfredo/Library/Application Support/.settings',)\n",
      "('/Users/alfredo/Library/Application Support/Firefox/installs.ini',)\n",
      "('/Users/alfredo/Library/Application Support/Firefox/profiles.ini',)\n",
      "('/Users/alfredo/Library/Application Support/Firefox/Profiles/3zgfj4k7.default/times.json',)\n",
      "('/Users/alfredo/Library/Application Support/Firefox/Profiles/vxy45f54.default-release/compatibility.ini',)\n",
      "('/Users/alfredo/Library/Application Support/Firefox/Profiles/vxy45f54.default-release/favicons.sqlite-wal',)\n",
      "('/Users/alfredo/Library/Application Support/Firefox/Profiles/vxy45f54.default-release/addons.json',)\n",
      "('/Users/alfredo/Library/Application Support/Firefox/Profiles/vxy45f54.default-release/.parentlock',)\n",
      "('/Users/alfredo/Library/Application Support/Firefox/Profiles/vxy45f54.default-release/logins.json',)\n"
     ]
    }
   ],
   "source": [
    "query = 'SELECT path from files LIMIT(10)'\n",
    "for i in cursor.execute(query):\n",
    "    print(i)"
   ]
  },
  {
   "cell_type": "markdown",
   "metadata": {},
   "source": [
    "The next query uses ID and Bytes. Update the query once again to select two rows in the table: `bytes` and `path`."
   ]
  },
  {
   "cell_type": "code",
   "execution_count": 20,
   "metadata": {},
   "outputs": [
    {
     "name": "stdout",
     "output_type": "stream",
     "text": [
      "(6148, '/Users/alfredo/Library/Application Support/.DS_Store')\n",
      "(557, '/Users/alfredo/Library/Application Support/.settings')\n",
      "(71, '/Users/alfredo/Library/Application Support/Firefox/installs.ini')\n",
      "(286, '/Users/alfredo/Library/Application Support/Firefox/profiles.ini')\n",
      "(47, '/Users/alfredo/Library/Application Support/Firefox/Profiles/3zgfj4k7.default/times.json')\n",
      "(220, '/Users/alfredo/Library/Application Support/Firefox/Profiles/vxy45f54.default-release/compatibility.ini')\n",
      "(524704, '/Users/alfredo/Library/Application Support/Firefox/Profiles/vxy45f54.default-release/favicons.sqlite-wal')\n",
      "(24, '/Users/alfredo/Library/Application Support/Firefox/Profiles/vxy45f54.default-release/addons.json')\n",
      "(0, '/Users/alfredo/Library/Application Support/Firefox/Profiles/vxy45f54.default-release/.parentlock')\n",
      "(643, '/Users/alfredo/Library/Application Support/Firefox/Profiles/vxy45f54.default-release/logins.json')\n"
     ]
    }
   ],
   "source": [
    "query = 'SELECT bytes,path FROM files LIMIT(10)'\n",
    "for i in cursor.execute(query):\n",
    "    print(i)"
   ]
  },
  {
   "cell_type": "markdown",
   "metadata": {},
   "source": [
    "## Extracting distinct data\n",
    "You now know how to extract data from certain rows and how to limit that data. Next, we'll use more SQL statements to further find and filter out results so that you can get specific results.\n",
    "\n",
    "**Exercise:** Use the next query to find 10 files that are bigger than 1mb (1000000 bytes) using a new statement (`WHERE`):"
   ]
  },
  {
   "cell_type": "code",
   "execution_count": 16,
   "metadata": {},
   "outputs": [
    {
     "name": "stdout",
     "output_type": "stream",
     "text": [
      "('/Users/alfredo/Library/Application Support/Firefox/Profiles/vxy45f54.default-release/places.sqlite-wal',)\n",
      "('/Users/alfredo/Library/Application Support/Firefox/Profiles/vxy45f54.default-release/favicons.sqlite',)\n",
      "('/Users/alfredo/Library/Application Support/Firefox/Profiles/vxy45f54.default-release/places.sqlite',)\n",
      "('/Users/alfredo/Library/Application Support/Firefox/Profiles/vxy45f54.default-release/security_state/data.safe.bin',)\n",
      "('/Users/alfredo/Library/Application Support/Firefox/Profiles/vxy45f54.default-release/storage/permanent/chrome/idb/3870112724rsegmnoittet-es.sqlite',)\n",
      "('/Users/alfredo/Library/Application Support/Firefox/Profiles/vxy45f54.default-release/gmp-gmpopenh264/1.8.1.1/libgmpopenh264.dylib',)\n",
      "('/Users/alfredo/Library/Application Support/Firefox/Profiles/vxy45f54.default-release/gmp-widevinecdm/4.10.2209.1/libwidevinecdm.dylib',)\n",
      "('/Users/alfredo/Library/Application Support/Spotify/User Data/WidevineCDM/4.10.2209.0/x64/libwidevinecdm.dylib',)\n",
      "('/Users/alfredo/Library/Application Support/Spotify/User Data/WidevineCDM/4.10.2209.0/arm64/libwidevinecdm.dylib',)\n",
      "('/Users/alfredo/Library/Application Support/Spotify/PersistentCache/Update/spotify-autoupdate-1.1.69.612.gb7409abc-13.tbz',)\n"
     ]
    }
   ],
   "source": [
    "query = 'SELECT path FROM files WHERE bytes>1000000 LIMIT(10)'\n",
    "for i in cursor.execute(query):\n",
    "    print(i)"
   ]
  },
  {
   "cell_type": "markdown",
   "metadata": {},
   "source": [
    "The query shows the paths but not the sizes. \n",
    "\n",
    "**Exercise:** Try updating the previous query to show both the path and the size. "
   ]
  },
  {
   "cell_type": "code",
   "execution_count": 17,
   "metadata": {},
   "outputs": [
    {
     "name": "stdout",
     "output_type": "stream",
     "text": [
      "('/Users/alfredo/Library/Application Support/Firefox/Profiles/vxy45f54.default-release/places.sqlite-wal', 2131512)\n",
      "('/Users/alfredo/Library/Application Support/Firefox/Profiles/vxy45f54.default-release/favicons.sqlite', 5242880)\n",
      "('/Users/alfredo/Library/Application Support/Firefox/Profiles/vxy45f54.default-release/places.sqlite', 5242880)\n",
      "('/Users/alfredo/Library/Application Support/Firefox/Profiles/vxy45f54.default-release/security_state/data.safe.bin', 4902142)\n",
      "('/Users/alfredo/Library/Application Support/Firefox/Profiles/vxy45f54.default-release/storage/permanent/chrome/idb/3870112724rsegmnoittet-es.sqlite', 14385152)\n",
      "('/Users/alfredo/Library/Application Support/Firefox/Profiles/vxy45f54.default-release/gmp-gmpopenh264/1.8.1.1/libgmpopenh264.dylib', 1012096)\n",
      "('/Users/alfredo/Library/Application Support/Firefox/Profiles/vxy45f54.default-release/gmp-widevinecdm/4.10.2209.1/libwidevinecdm.dylib', 9698128)\n",
      "('/Users/alfredo/Library/Application Support/Spotify/User Data/WidevineCDM/4.10.2209.0/x64/libwidevinecdm.dylib', 11670960)\n",
      "('/Users/alfredo/Library/Application Support/Spotify/User Data/WidevineCDM/4.10.2209.0/arm64/libwidevinecdm.dylib', 10061392)\n",
      "('/Users/alfredo/Library/Application Support/Spotify/PersistentCache/Update/spotify-autoupdate-1.1.69.612.gb7409abc-13.tbz', 104654007)\n"
     ]
    }
   ],
   "source": [
    "query = 'SELECT path,bytes FROM files WHERE bytes>1000000 LIMIT(10)'\n",
    "for i in cursor.execute(query):\n",
    "    print(i)"
   ]
  },
  {
   "cell_type": "markdown",
   "metadata": {},
   "source": [
    "SQL has many helper functions, in this case the next query uses `MAX()` which can find the highest value in a column. Do you think that `LIMIT(10)` makes sense in this query? Why? What happens if you remove the `LIMIT(10)` clause?\n",
    "\n",
    "**Exercise:** Remote the `LIMIT()` clause and check your results"
   ]
  },
  {
   "cell_type": "code",
   "execution_count": 21,
   "metadata": {},
   "outputs": [
    {
     "name": "stdout",
     "output_type": "stream",
     "text": [
      "('/Users/alfredo/Library/Application Support/Quake3/baseq3/pak0.pk3', 479493658)\n"
     ]
    }
   ],
   "source": [
    "query = 'SELECT path,MAX(bytes) FROM files'\n",
    "for i in cursor.execute(query):\n",
    "    print(i)"
   ]
  },
  {
   "cell_type": "markdown",
   "metadata": {},
   "source": [
    "SQL queries can be compounded for more conditionals. In Python, you can make the query more readable by using triple quotes and adding the queries in a multi-line variable.\n",
    "\n",
    "**Exercise:** Use other conditions to match different sizes and limit to a different number of entries returned"
   ]
  },
  {
   "cell_type": "code",
   "execution_count": 23,
   "metadata": {},
   "outputs": [
    {
     "name": "stdout",
     "output_type": "stream",
     "text": [
      "('/Users/alfredo/Library/Application Support/Firefox/Profiles/vxy45f54.default-release/places.sqlite-wal', 2131512)\n",
      "('/Users/alfredo/Library/Application Support/Firefox/Profiles/vxy45f54.default-release/gmp-gmpopenh264/1.8.1.1/libgmpopenh264.dylib', 1012096)\n",
      "('/Users/alfredo/Library/Application Support/Spotify/PersistentCache/Users/alfredodeza-user/primary.ldb/000188.ldb', 2136913)\n",
      "('/Users/alfredo/Library/Application Support/Spotify/PersistentCache/Users/alfredodeza-user/primary.ldb/000185.ldb', 1154359)\n",
      "('/Users/alfredo/Library/Application Support/Spotify/PersistentCache/Users/alfredodeza-user/primary.ldb/000184.ldb', 2136676)\n"
     ]
    }
   ],
   "source": [
    "query = \"\"\"\n",
    "SELECT path,bytes FROM files \n",
    "    WHERE bytes>1000000 \n",
    "    AND bytes<4000000 LIMIT(5)\n",
    "\"\"\"\n",
    "for i in cursor.execute(query):\n",
    "    print(i)"
   ]
  },
  {
   "cell_type": "markdown",
   "metadata": {},
   "source": [
    "## Searching\n",
    "Sometimes you can't tell exactly what is it that you are looking for in a query. SQL allows for matching patterns. In the file paths situation, you might know that a specific file ends with `.zip` but you don't know where it is. \n",
    "\n",
    "**Exercise:** Use the `LIKE` operator to match and find a cache file related to an Address Book application."
   ]
  },
  {
   "cell_type": "code",
   "execution_count": 26,
   "metadata": {},
   "outputs": [
    {
     "name": "stdout",
     "output_type": "stream",
     "text": [
      "('/Users/alfredo/Library/Application Support/Adobe/AcroCef/DC/Acrobat/Cache/Cache/data_3', 4202496)\n"
     ]
    }
   ],
   "source": [
    "query = \"\"\"\n",
    "SELECT path,bytes FROM files \n",
    "    WHERE path LIKE '%Adobe%'\n",
    "    AND bytes>2000000\n",
    "\"\"\"\n",
    "for i in cursor.execute(query):\n",
    "    print(i)"
   ]
  },
  {
   "cell_type": "markdown",
   "metadata": {},
   "source": [
    "Using `%` means to match any text of zero or more characters. So `%AddressBook%` is very lenient for anything before it and after it. Try adding a condition that filters the result by size. Anything over 2MB (or 2000000 bytes) and see if you can reduce the amount of output."
   ]
  },
  {
   "cell_type": "markdown",
   "metadata": {},
   "source": [
    "There are other variations for search like using an underscore (`_`). That means any single character. If you know that a file prefix or suffix is, you could use this to fine-tune your search.\n",
    "\n",
    "**Exercise:** Use other search items for the paths found in your filesystem and try to match them"
   ]
  }
 ],
 "metadata": {
  "kernelspec": {
   "display_name": "project_MIS",
   "language": "python",
   "name": "python3"
  },
  "language_info": {
   "codemirror_mode": {
    "name": "ipython",
    "version": 3
   },
   "file_extension": ".py",
   "mimetype": "text/x-python",
   "name": "python",
   "nbconvert_exporter": "python",
   "pygments_lexer": "ipython3",
   "version": "3.8.15"
  },
  "orig_nbformat": 4,
  "vscode": {
   "interpreter": {
    "hash": "ed6e5d6ea59f1d7f1b928c4c38e1d87b92b807179ba49338c60f0bad315d1eaf"
   }
  }
 },
 "nbformat": 4,
 "nbformat_minor": 2
}
