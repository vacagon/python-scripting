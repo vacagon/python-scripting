{
 "cells": [
  {
   "cell_type": "markdown",
   "metadata": {},
   "source": [
    "Go through the basics of creating a Python script, and then create a Python file for the script to run it on the terminal. In this practice notebook, you'll create the building blocks for a script that finds large files on the filesytem"
   ]
  },
  {
   "cell_type": "markdown",
   "metadata": {},
   "source": [
    "## Get the logic right \n",
    "Start by defining some of the requirements of the script. In this case, we need to:\n",
    "- _Walk_ the filesystem looking at files, directories and sub-directories\n",
    "- Capture file information: is it a file? a directory? what size? what path?\n",
    "- Store that information in a suitable data structure\n",
    "- Report the sorted data what are the largest files by looking at the data structure"
   ]
  },
  {
   "cell_type": "code",
   "execution_count": 1,
   "metadata": {},
   "outputs": [
    {
     "name": "stdout",
     "output_type": "stream",
     "text": [
      "File found: .gitignore\n",
      "File found: README.md\n",
      "File found: large-files.ipynb\n",
      "File found: large_files.py\n",
      "File found: querying-databases.ipynb\n",
      "File found: sqlite-operations.ipynb\n",
      "File found: description\n",
      "File found: packed-refs\n",
      "File found: HEAD\n",
      "File found: config\n",
      "File found: index\n",
      "File found: applypatch-msg.sample\n",
      "File found: commit-msg.sample\n",
      "File found: fsmonitor-watchman.sample\n",
      "File found: post-update.sample\n",
      "File found: pre-applypatch.sample\n",
      "File found: pre-commit.sample\n",
      "File found: pre-merge-commit.sample\n",
      "File found: pre-push.sample\n",
      "File found: pre-rebase.sample\n",
      "File found: pre-receive.sample\n",
      "File found: prepare-commit-msg.sample\n",
      "File found: push-to-checkout.sample\n",
      "File found: update.sample\n",
      "File found: exclude\n",
      "File found: main\n",
      "File found: HEAD\n",
      "File found: pack-537209b85fbca39824eb1d26e23f76c26b5acf94.pack\n",
      "File found: pack-537209b85fbca39824eb1d26e23f76c26b5acf94.idx\n",
      "File found: HEAD\n",
      "File found: HEAD\n",
      "File found: main\n",
      "File found: generate_large_files.py\n",
      "File found: large_files.cpython-38.pyc\n"
     ]
    }
   ],
   "source": [
    "# The os module is perfect for filesystem operations like \"walking\" throught directories and files\n",
    "# Although there are many ways of achieving the same effect, a good way to loop over the filesystem is using `os.walk()`\n",
    "import os\n",
    "for root, directories, files in os.walk('.'):\n",
    "    for _file in files:\n",
    "        print(f\"File found: {_file}\")\n"
   ]
  },
  {
   "cell_type": "code",
   "execution_count": 2,
   "metadata": {},
   "outputs": [
    {
     "name": "stdout",
     "output_type": "stream",
     "text": [
      "File found: .\\.gitignore\n",
      "File found: .\\README.md\n",
      "File found: .\\large-files.ipynb\n",
      "File found: .\\large_files.py\n",
      "File found: .\\querying-databases.ipynb\n",
      "File found: .\\sqlite-operations.ipynb\n",
      "File found: .\\.git\\description\n",
      "File found: .\\.git\\packed-refs\n",
      "File found: .\\.git\\HEAD\n",
      "File found: .\\.git\\config\n",
      "File found: .\\.git\\index\n",
      "File found: .\\.git\\hooks\\applypatch-msg.sample\n",
      "File found: .\\.git\\hooks\\commit-msg.sample\n",
      "File found: .\\.git\\hooks\\fsmonitor-watchman.sample\n",
      "File found: .\\.git\\hooks\\post-update.sample\n",
      "File found: .\\.git\\hooks\\pre-applypatch.sample\n",
      "File found: .\\.git\\hooks\\pre-commit.sample\n",
      "File found: .\\.git\\hooks\\pre-merge-commit.sample\n",
      "File found: .\\.git\\hooks\\pre-push.sample\n",
      "File found: .\\.git\\hooks\\pre-rebase.sample\n",
      "File found: .\\.git\\hooks\\pre-receive.sample\n",
      "File found: .\\.git\\hooks\\prepare-commit-msg.sample\n",
      "File found: .\\.git\\hooks\\push-to-checkout.sample\n",
      "File found: .\\.git\\hooks\\update.sample\n",
      "File found: .\\.git\\info\\exclude\n",
      "File found: .\\.git\\refs\\heads\\main\n",
      "File found: .\\.git\\refs\\remotes\\origin\\HEAD\n",
      "File found: .\\.git\\objects\\pack\\pack-537209b85fbca39824eb1d26e23f76c26b5acf94.pack\n",
      "File found: .\\.git\\objects\\pack\\pack-537209b85fbca39824eb1d26e23f76c26b5acf94.idx\n",
      "File found: .\\.git\\logs\\HEAD\n",
      "File found: .\\.git\\logs\\refs\\remotes\\origin\\HEAD\n",
      "File found: .\\.git\\logs\\refs\\heads\\main\n",
      "File found: .\\scripts\\generate_large_files.py\n",
      "File found: .\\__pycache__\\large_files.cpython-38.pyc\n"
     ]
    }
   ],
   "source": [
    "# Update the loop so that it shows the absolute path of a file ignoring directories which we aren't going to track\n",
    "for root, directories, files in os.walk('.'):\n",
    "    for _file in files:\n",
    "        full_path = os.path.join(root, _file)\n",
    "        print(f\"File found: {full_path}\")\n"
   ]
  },
  {
   "cell_type": "markdown",
   "metadata": {},
   "source": [
    "So now we have a few objectives completed:\n",
    "- Files are detected\n",
    "- Full paths are being collected\n",
    "\n",
    "Next, we need to find size information. Python uses bytes by default for size, so in addition to capturing the size, we'll need to find a way to change bytes to megabytes or gigabytes to make it easier to read"
   ]
  },
  {
   "cell_type": "code",
   "execution_count": 3,
   "metadata": {},
   "outputs": [
    {
     "name": "stdout",
     "output_type": "stream",
     "text": [
      "Size: 1928b - File: .\\.gitignore\n",
      "Size: 63b - File: .\\README.md\n",
      "Size: 12855b - File: .\\large-files.ipynb\n",
      "Size: 277813b - File: .\\large_files.py\n",
      "Size: 16655b - File: .\\querying-databases.ipynb\n",
      "Size: 4469b - File: .\\sqlite-operations.ipynb\n",
      "Size: 73b - File: .\\.git\\description\n",
      "Size: 112b - File: .\\.git\\packed-refs\n",
      "Size: 21b - File: .\\.git\\HEAD\n",
      "Size: 306b - File: .\\.git\\config\n",
      "Size: 681b - File: .\\.git\\index\n",
      "Size: 478b - File: .\\.git\\hooks\\applypatch-msg.sample\n",
      "Size: 896b - File: .\\.git\\hooks\\commit-msg.sample\n",
      "Size: 4726b - File: .\\.git\\hooks\\fsmonitor-watchman.sample\n",
      "Size: 189b - File: .\\.git\\hooks\\post-update.sample\n",
      "Size: 424b - File: .\\.git\\hooks\\pre-applypatch.sample\n",
      "Size: 1643b - File: .\\.git\\hooks\\pre-commit.sample\n",
      "Size: 416b - File: .\\.git\\hooks\\pre-merge-commit.sample\n",
      "Size: 1374b - File: .\\.git\\hooks\\pre-push.sample\n",
      "Size: 4898b - File: .\\.git\\hooks\\pre-rebase.sample\n",
      "Size: 544b - File: .\\.git\\hooks\\pre-receive.sample\n",
      "Size: 1492b - File: .\\.git\\hooks\\prepare-commit-msg.sample\n",
      "Size: 2783b - File: .\\.git\\hooks\\push-to-checkout.sample\n",
      "Size: 3650b - File: .\\.git\\hooks\\update.sample\n",
      "Size: 240b - File: .\\.git\\info\\exclude\n",
      "Size: 41b - File: .\\.git\\refs\\heads\\main\n",
      "Size: 30b - File: .\\.git\\refs\\remotes\\origin\\HEAD\n",
      "Size: 53789b - File: .\\.git\\objects\\pack\\pack-537209b85fbca39824eb1d26e23f76c26b5acf94.pack\n",
      "Size: 1800b - File: .\\.git\\objects\\pack\\pack-537209b85fbca39824eb1d26e23f76c26b5acf94.idx\n",
      "Size: 193b - File: .\\.git\\logs\\HEAD\n",
      "Size: 193b - File: .\\.git\\logs\\refs\\remotes\\origin\\HEAD\n",
      "Size: 193b - File: .\\.git\\logs\\refs\\heads\\main\n",
      "Size: 659b - File: .\\scripts\\generate_large_files.py\n",
      "Size: 281309b - File: .\\__pycache__\\large_files.cpython-38.pyc\n"
     ]
    }
   ],
   "source": [
    "# Update the loop to include the file size\n",
    "for root, directories, files in os.walk('.'):\n",
    "    for _file in files:\n",
    "        full_path = os.path.join(root, _file)\n",
    "        size = os.path.getsize(full_path)\n",
    "        print(f\"Size: {size}b - File: {full_path}\")"
   ]
  },
  {
   "cell_type": "code",
   "execution_count": 4,
   "metadata": {},
   "outputs": [
    {
     "name": "stdout",
     "output_type": "stream",
     "text": [
      "{'.\\\\.gitignore': 1928, '.\\\\README.md': 63, '.\\\\large-files.ipynb': 12855, '.\\\\large_files.py': 277813, '.\\\\querying-databases.ipynb': 16655, '.\\\\sqlite-operations.ipynb': 4469, '.\\\\.git\\\\description': 73, '.\\\\.git\\\\packed-refs': 112, '.\\\\.git\\\\HEAD': 21, '.\\\\.git\\\\config': 306, '.\\\\.git\\\\index': 681, '.\\\\.git\\\\hooks\\\\applypatch-msg.sample': 478, '.\\\\.git\\\\hooks\\\\commit-msg.sample': 896, '.\\\\.git\\\\hooks\\\\fsmonitor-watchman.sample': 4726, '.\\\\.git\\\\hooks\\\\post-update.sample': 189, '.\\\\.git\\\\hooks\\\\pre-applypatch.sample': 424, '.\\\\.git\\\\hooks\\\\pre-commit.sample': 1643, '.\\\\.git\\\\hooks\\\\pre-merge-commit.sample': 416, '.\\\\.git\\\\hooks\\\\pre-push.sample': 1374, '.\\\\.git\\\\hooks\\\\pre-rebase.sample': 4898, '.\\\\.git\\\\hooks\\\\pre-receive.sample': 544, '.\\\\.git\\\\hooks\\\\prepare-commit-msg.sample': 1492, '.\\\\.git\\\\hooks\\\\push-to-checkout.sample': 2783, '.\\\\.git\\\\hooks\\\\update.sample': 3650, '.\\\\.git\\\\info\\\\exclude': 240, '.\\\\.git\\\\refs\\\\heads\\\\main': 41, '.\\\\.git\\\\refs\\\\remotes\\\\origin\\\\HEAD': 30, '.\\\\.git\\\\objects\\\\pack\\\\pack-537209b85fbca39824eb1d26e23f76c26b5acf94.pack': 53789, '.\\\\.git\\\\objects\\\\pack\\\\pack-537209b85fbca39824eb1d26e23f76c26b5acf94.idx': 1800, '.\\\\.git\\\\logs\\\\HEAD': 193, '.\\\\.git\\\\logs\\\\refs\\\\remotes\\\\origin\\\\HEAD': 193, '.\\\\.git\\\\logs\\\\refs\\\\heads\\\\main': 193, '.\\\\scripts\\\\generate_large_files.py': 659, '.\\\\__pycache__\\\\large_files.cpython-38.pyc': 281309}\n"
     ]
    }
   ],
   "source": [
    "# Persist the data into a dictionary. Since file paths are unique you can use those as dictionary keys\n",
    "file_metadata = {}\n",
    "for root, directories, files in os.walk('.'):\n",
    "    for _file in files:\n",
    "        full_path = os.path.join(root, _file)\n",
    "        size = os.path.getsize(full_path)\n",
    "        file_metadata[full_path] = size\n",
    "print(file_metadata)"
   ]
  },
  {
   "cell_type": "markdown",
   "metadata": {},
   "source": [
    "**Exercise:** Now that the metadata is captured and stored in a suitable data structure like a dictionary, report back the results with only the four largest files. Try using other quantities to report on, like the 10 largest files instead of 4."
   ]
  },
  {
   "cell_type": "code",
   "execution_count": 11,
   "metadata": {},
   "outputs": [
    {
     "name": "stdout",
     "output_type": "stream",
     "text": [
      "Size: 281309 Path: .\\__pycache__\\large_files.cpython-38.pyc\n",
      "Size: 277813 Path: .\\large_files.py\n",
      "Size: 53789 Path: .\\.git\\objects\\pack\\pack-537209b85fbca39824eb1d26e23f76c26b5acf94.pack\n",
      "Size: 16655 Path: .\\querying-databases.ipynb\n",
      "Size: 12855 Path: .\\large-files.ipynb\n"
     ]
    }
   ],
   "source": [
    "items_shown = 0\n",
    "    \n",
    "for path, size in sorted(file_metadata.items(), key=lambda x:x[1], reverse=True):\n",
    "    if items_shown > 4:\n",
    "        break\n",
    "    print(f\"Size: {size} Path: {path}\")\n",
    "    items_shown += 1\n"
   ]
  },
  {
   "cell_type": "markdown",
   "metadata": {},
   "source": [
    "There is a lot happening in the previous cell. `sorted()` is a built-in function that can sort iterables like Python dictionaries. In this case, we need to sort by the _value_. This is done using the `key` parameter which accepts a `lambda`.\n",
    "`lambda` allows to represent a function in a single line without defining it. That `lambda` expression is the same as defining a function like:\n",
    "\n",
    "```python\n",
    "def by_value(x):\n",
    "    return x[1]\n",
    "```\n",
    "\n",
    "`x` represents two items, the path and the size. The function is returning only the size because that is what we want to sort with. Try changing the `lambda` expression to use `x[0]` instead and see what happens.\n",
    "\n",
    "**Exercise:** Try using a function instead of a `lambda` function and achieve the same result"
   ]
  }
 ],
 "metadata": {
  "kernelspec": {
   "display_name": "project_MIS",
   "language": "python",
   "name": "python3"
  },
  "language_info": {
   "codemirror_mode": {
    "name": "ipython",
    "version": 3
   },
   "file_extension": ".py",
   "mimetype": "text/x-python",
   "name": "python",
   "nbconvert_exporter": "python",
   "pygments_lexer": "ipython3",
   "version": "3.8.15"
  },
  "orig_nbformat": 4,
  "vscode": {
   "interpreter": {
    "hash": "ed6e5d6ea59f1d7f1b928c4c38e1d87b92b807179ba49338c60f0bad315d1eaf"
   }
  }
 },
 "nbformat": 4,
 "nbformat_minor": 2
}
